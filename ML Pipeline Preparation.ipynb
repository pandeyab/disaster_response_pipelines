{
 "cells": [
  {
   "cell_type": "markdown",
   "metadata": {},
   "source": [
    "# ML Pipeline Preparation\n",
    "Follow the instructions below to help you create your ML pipeline.\n",
    "### 1. Import libraries and load data from database.\n",
    "- Import Python libraries\n",
    "- Load dataset from database with [`read_sql_table`](https://pandas.pydata.org/pandas-docs/stable/generated/pandas.read_sql_table.html)\n",
    "- Define feature and target variables X and Y"
   ]
  },
  {
   "cell_type": "code",
   "execution_count": 1,
   "metadata": {},
   "outputs": [],
   "source": [
    "# import libraries\n",
    "import nltk\n",
    "from nltk.tokenize import word_tokenize\n",
    "from nltk.stem.porter import PorterStemmer\n",
    "from nltk.stem.wordnet import WordNetLemmatizer\n",
    "from nltk.corpus import stopwords\n",
    "\n",
    "import pandas as pd\n",
    "import numpy as np\n",
    "import pickle\n",
    "import re\n",
    "\n",
    "from sqlalchemy import create_engine\n",
    "\n",
    "from sklearn.feature_extraction.text import TfidfVectorizer, CountVectorizer, TfidfTransformer\n",
    "from sklearn.ensemble import GradientBoostingClassifier, RandomForestClassifier, AdaBoostClassifier\n",
    "from sklearn.tree import DecisionTreeClassifier\n",
    "from sklearn.model_selection import train_test_split, GridSearchCV\n",
    "from sklearn.pipeline import Pipeline, FeatureUnion\n",
    "from sklearn.multioutput import MultiOutputClassifier\n",
    "from sklearn.metrics import classification_report, confusion_matrix, fbeta_score, make_scorer\n",
    "from sklearn.metrics import accuracy_score, precision_score, recall_score, f1_score, make_scorer\n",
    "from sklearn.linear_model import SGDClassifier\n",
    "from sklearn.svm import SVC\n",
    "from sklearn.decomposition import TruncatedSVD\n",
    "\n",
    "import warnings\n",
    "warnings.simplefilter('ignore')\n",
    "\n",
    "import matplotlib.pyplot as plt\n",
    "%matplotlib inline\n"
   ]
  },
  {
   "cell_type": "code",
   "execution_count": 2,
   "metadata": {},
   "outputs": [
    {
     "name": "stdout",
     "output_type": "stream",
     "text": [
      "[nltk_data] Downloading package punkt to /root/nltk_data...\n",
      "[nltk_data]   Package punkt is already up-to-date!\n",
      "[nltk_data] Downloading package wordnet to /root/nltk_data...\n",
      "[nltk_data]   Package wordnet is already up-to-date!\n",
      "[nltk_data] Downloading package stopwords to /root/nltk_data...\n",
      "[nltk_data]   Package stopwords is already up-to-date!\n"
     ]
    },
    {
     "data": {
      "text/plain": [
       "True"
      ]
     },
     "execution_count": 2,
     "metadata": {},
     "output_type": "execute_result"
    }
   ],
   "source": [
    "nltk.download(['punkt', 'wordnet', 'stopwords'])"
   ]
  },
  {
   "cell_type": "code",
   "execution_count": 3,
   "metadata": {},
   "outputs": [
    {
     "data": {
      "text/html": [
       "<div>\n",
       "<style scoped>\n",
       "    .dataframe tbody tr th:only-of-type {\n",
       "        vertical-align: middle;\n",
       "    }\n",
       "\n",
       "    .dataframe tbody tr th {\n",
       "        vertical-align: top;\n",
       "    }\n",
       "\n",
       "    .dataframe thead th {\n",
       "        text-align: right;\n",
       "    }\n",
       "</style>\n",
       "<table border=\"1\" class=\"dataframe\">\n",
       "  <thead>\n",
       "    <tr style=\"text-align: right;\">\n",
       "      <th></th>\n",
       "      <th>id</th>\n",
       "      <th>message</th>\n",
       "      <th>original</th>\n",
       "      <th>genre</th>\n",
       "      <th>related</th>\n",
       "      <th>request</th>\n",
       "      <th>offer</th>\n",
       "      <th>aid_related</th>\n",
       "      <th>medical_help</th>\n",
       "      <th>medical_products</th>\n",
       "      <th>...</th>\n",
       "      <th>aid_centers</th>\n",
       "      <th>other_infrastructure</th>\n",
       "      <th>weather_related</th>\n",
       "      <th>floods</th>\n",
       "      <th>storm</th>\n",
       "      <th>fire</th>\n",
       "      <th>earthquake</th>\n",
       "      <th>cold</th>\n",
       "      <th>other_weather</th>\n",
       "      <th>direct_report</th>\n",
       "    </tr>\n",
       "  </thead>\n",
       "  <tbody>\n",
       "    <tr>\n",
       "      <th>0</th>\n",
       "      <td>2</td>\n",
       "      <td>Weather update - a cold front from Cuba that c...</td>\n",
       "      <td>Un front froid se retrouve sur Cuba ce matin. ...</td>\n",
       "      <td>direct</td>\n",
       "      <td>1</td>\n",
       "      <td>0</td>\n",
       "      <td>0</td>\n",
       "      <td>0</td>\n",
       "      <td>0</td>\n",
       "      <td>0</td>\n",
       "      <td>...</td>\n",
       "      <td>0</td>\n",
       "      <td>0</td>\n",
       "      <td>0</td>\n",
       "      <td>0</td>\n",
       "      <td>0</td>\n",
       "      <td>0</td>\n",
       "      <td>0</td>\n",
       "      <td>0</td>\n",
       "      <td>0</td>\n",
       "      <td>0</td>\n",
       "    </tr>\n",
       "    <tr>\n",
       "      <th>1</th>\n",
       "      <td>7</td>\n",
       "      <td>Is the Hurricane over or is it not over</td>\n",
       "      <td>Cyclone nan fini osinon li pa fini</td>\n",
       "      <td>direct</td>\n",
       "      <td>1</td>\n",
       "      <td>0</td>\n",
       "      <td>0</td>\n",
       "      <td>1</td>\n",
       "      <td>0</td>\n",
       "      <td>0</td>\n",
       "      <td>...</td>\n",
       "      <td>0</td>\n",
       "      <td>0</td>\n",
       "      <td>1</td>\n",
       "      <td>0</td>\n",
       "      <td>1</td>\n",
       "      <td>0</td>\n",
       "      <td>0</td>\n",
       "      <td>0</td>\n",
       "      <td>0</td>\n",
       "      <td>0</td>\n",
       "    </tr>\n",
       "    <tr>\n",
       "      <th>2</th>\n",
       "      <td>8</td>\n",
       "      <td>Looking for someone but no name</td>\n",
       "      <td>Patnm, di Maryani relem pou li banm nouvel li ...</td>\n",
       "      <td>direct</td>\n",
       "      <td>1</td>\n",
       "      <td>0</td>\n",
       "      <td>0</td>\n",
       "      <td>0</td>\n",
       "      <td>0</td>\n",
       "      <td>0</td>\n",
       "      <td>...</td>\n",
       "      <td>0</td>\n",
       "      <td>0</td>\n",
       "      <td>0</td>\n",
       "      <td>0</td>\n",
       "      <td>0</td>\n",
       "      <td>0</td>\n",
       "      <td>0</td>\n",
       "      <td>0</td>\n",
       "      <td>0</td>\n",
       "      <td>0</td>\n",
       "    </tr>\n",
       "    <tr>\n",
       "      <th>3</th>\n",
       "      <td>9</td>\n",
       "      <td>UN reports Leogane 80-90 destroyed. Only Hospi...</td>\n",
       "      <td>UN reports Leogane 80-90 destroyed. Only Hospi...</td>\n",
       "      <td>direct</td>\n",
       "      <td>1</td>\n",
       "      <td>1</td>\n",
       "      <td>0</td>\n",
       "      <td>1</td>\n",
       "      <td>0</td>\n",
       "      <td>1</td>\n",
       "      <td>...</td>\n",
       "      <td>0</td>\n",
       "      <td>0</td>\n",
       "      <td>0</td>\n",
       "      <td>0</td>\n",
       "      <td>0</td>\n",
       "      <td>0</td>\n",
       "      <td>0</td>\n",
       "      <td>0</td>\n",
       "      <td>0</td>\n",
       "      <td>0</td>\n",
       "    </tr>\n",
       "    <tr>\n",
       "      <th>4</th>\n",
       "      <td>12</td>\n",
       "      <td>says: west side of Haiti, rest of the country ...</td>\n",
       "      <td>facade ouest d Haiti et le reste du pays aujou...</td>\n",
       "      <td>direct</td>\n",
       "      <td>1</td>\n",
       "      <td>0</td>\n",
       "      <td>0</td>\n",
       "      <td>0</td>\n",
       "      <td>0</td>\n",
       "      <td>0</td>\n",
       "      <td>...</td>\n",
       "      <td>0</td>\n",
       "      <td>0</td>\n",
       "      <td>0</td>\n",
       "      <td>0</td>\n",
       "      <td>0</td>\n",
       "      <td>0</td>\n",
       "      <td>0</td>\n",
       "      <td>0</td>\n",
       "      <td>0</td>\n",
       "      <td>0</td>\n",
       "    </tr>\n",
       "  </tbody>\n",
       "</table>\n",
       "<p>5 rows × 40 columns</p>\n",
       "</div>"
      ],
      "text/plain": [
       "   id                                            message  \\\n",
       "0   2  Weather update - a cold front from Cuba that c...   \n",
       "1   7            Is the Hurricane over or is it not over   \n",
       "2   8                    Looking for someone but no name   \n",
       "3   9  UN reports Leogane 80-90 destroyed. Only Hospi...   \n",
       "4  12  says: west side of Haiti, rest of the country ...   \n",
       "\n",
       "                                            original   genre  related  \\\n",
       "0  Un front froid se retrouve sur Cuba ce matin. ...  direct        1   \n",
       "1                 Cyclone nan fini osinon li pa fini  direct        1   \n",
       "2  Patnm, di Maryani relem pou li banm nouvel li ...  direct        1   \n",
       "3  UN reports Leogane 80-90 destroyed. Only Hospi...  direct        1   \n",
       "4  facade ouest d Haiti et le reste du pays aujou...  direct        1   \n",
       "\n",
       "   request  offer  aid_related  medical_help  medical_products      ...        \\\n",
       "0        0      0            0             0                 0      ...         \n",
       "1        0      0            1             0                 0      ...         \n",
       "2        0      0            0             0                 0      ...         \n",
       "3        1      0            1             0                 1      ...         \n",
       "4        0      0            0             0                 0      ...         \n",
       "\n",
       "   aid_centers  other_infrastructure  weather_related  floods  storm  fire  \\\n",
       "0            0                     0                0       0      0     0   \n",
       "1            0                     0                1       0      1     0   \n",
       "2            0                     0                0       0      0     0   \n",
       "3            0                     0                0       0      0     0   \n",
       "4            0                     0                0       0      0     0   \n",
       "\n",
       "   earthquake  cold  other_weather  direct_report  \n",
       "0           0     0              0              0  \n",
       "1           0     0              0              0  \n",
       "2           0     0              0              0  \n",
       "3           0     0              0              0  \n",
       "4           0     0              0              0  \n",
       "\n",
       "[5 rows x 40 columns]"
      ]
     },
     "execution_count": 3,
     "metadata": {},
     "output_type": "execute_result"
    }
   ],
   "source": [
    "# load data from database\n",
    "engine = create_engine('sqlite:///DisasterResponse.db')\n",
    "df = pd.read_sql(\"SELECT * FROM labeled_messages\", engine)\n",
    "\n",
    "X = df.filter(items=['id', 'message', 'original', 'genre'])\n",
    "y = df.drop(['id', 'message', 'original', 'genre', 'child_alone'], axis=1)\n",
    "\n",
    "#Mapping the '2' values in 'related' to '1' - because I consider them as a response (that is, '1')\n",
    "y['related']=y['related'].map(lambda x: 1 if x == 2 else x)\n",
    "\n",
    "df.head()"
   ]
  },
  {
   "cell_type": "code",
   "execution_count": 4,
   "metadata": {},
   "outputs": [
    {
     "data": {
      "text/plain": [
       "pandas.core.frame.DataFrame"
      ]
     },
     "metadata": {},
     "output_type": "display_data"
    },
    {
     "data": {
      "text/plain": [
       "pandas.core.frame.DataFrame"
      ]
     },
     "metadata": {},
     "output_type": "display_data"
    }
   ],
   "source": [
    "display(type(X))\n",
    "display(type(y))"
   ]
  },
  {
   "cell_type": "code",
   "execution_count": 5,
   "metadata": {},
   "outputs": [
    {
     "data": {
      "text/plain": [
       "array([[<matplotlib.axes._subplots.AxesSubplot object at 0x7fbc6a757cc0>,\n",
       "        <matplotlib.axes._subplots.AxesSubplot object at 0x7fbc6a6e0940>,\n",
       "        <matplotlib.axes._subplots.AxesSubplot object at 0x7fbc6a54f8d0>,\n",
       "        <matplotlib.axes._subplots.AxesSubplot object at 0x7fbc69e3f8d0>,\n",
       "        <matplotlib.axes._subplots.AxesSubplot object at 0x7fbc6e75c860>,\n",
       "        <matplotlib.axes._subplots.AxesSubplot object at 0x7fbc6e75c668>],\n",
       "       [<matplotlib.axes._subplots.AxesSubplot object at 0x7fbc6a62c400>,\n",
       "        <matplotlib.axes._subplots.AxesSubplot object at 0x7fbc6a418400>,\n",
       "        <matplotlib.axes._subplots.AxesSubplot object at 0x7fbc6a302400>,\n",
       "        <matplotlib.axes._subplots.AxesSubplot object at 0x7fbc6a20cb70>,\n",
       "        <matplotlib.axes._subplots.AxesSubplot object at 0x7fbc69acf080>,\n",
       "        <matplotlib.axes._subplots.AxesSubplot object at 0x7fbc69a23f60>],\n",
       "       [<matplotlib.axes._subplots.AxesSubplot object at 0x7fbc6978de80>,\n",
       "        <matplotlib.axes._subplots.AxesSubplot object at 0x7fbc6a4b4550>,\n",
       "        <matplotlib.axes._subplots.AxesSubplot object at 0x7fbc6a458550>,\n",
       "        <matplotlib.axes._subplots.AxesSubplot object at 0x7fbc6a1835c0>,\n",
       "        <matplotlib.axes._subplots.AxesSubplot object at 0x7fbc6a1675c0>,\n",
       "        <matplotlib.axes._subplots.AxesSubplot object at 0x7fbc69dd05c0>],\n",
       "       [<matplotlib.axes._subplots.AxesSubplot object at 0x7fbc69d2f080>,\n",
       "        <matplotlib.axes._subplots.AxesSubplot object at 0x7fbc69d130f0>,\n",
       "        <matplotlib.axes._subplots.AxesSubplot object at 0x7fbc69a840f0>,\n",
       "        <matplotlib.axes._subplots.AxesSubplot object at 0x7fbc697690f0>,\n",
       "        <matplotlib.axes._subplots.AxesSubplot object at 0x7fbc69632d30>,\n",
       "        <matplotlib.axes._subplots.AxesSubplot object at 0x7fbc69619da0>],\n",
       "       [<matplotlib.axes._subplots.AxesSubplot object at 0x7fbc6a506da0>,\n",
       "        <matplotlib.axes._subplots.AxesSubplot object at 0x7fbc6a2abda0>,\n",
       "        <matplotlib.axes._subplots.AxesSubplot object at 0x7fbc6a27c5f8>,\n",
       "        <matplotlib.axes._subplots.AxesSubplot object at 0x7fbc6a369940>,\n",
       "        <matplotlib.axes._subplots.AxesSubplot object at 0x7fbc6a24b8d0>,\n",
       "        <matplotlib.axes._subplots.AxesSubplot object at 0x7fbc6a0ad8d0>],\n",
       "       [<matplotlib.axes._subplots.AxesSubplot object at 0x7fbc69ec9e10>,\n",
       "        <matplotlib.axes._subplots.AxesSubplot object at 0x7fbc69c6a400>,\n",
       "        <matplotlib.axes._subplots.AxesSubplot object at 0x7fbc6994b400>,\n",
       "        <matplotlib.axes._subplots.AxesSubplot object at 0x7fbc6986e400>,\n",
       "        <matplotlib.axes._subplots.AxesSubplot object at 0x7fbc6984d8d0>,\n",
       "        <matplotlib.axes._subplots.AxesSubplot object at 0x7fbc69c90d30>]], dtype=object)"
      ]
     },
     "execution_count": 5,
     "metadata": {},
     "output_type": "execute_result"
    },
    {
     "data": {
      "image/png": "[encoded data removed]",
      "text/plain": [
       "<matplotlib.figure.Figure at 0x7fbc6a757a58>"
      ]
     },
     "metadata": {
      "needs_background": "light"
     },
     "output_type": "display_data"
    }
   ],
   "source": [
    "#just to see possible values distribution within classes\n",
    "fig = plt.figure(figsize = (15,20))\n",
    "ax = fig.gca()\n",
    "y.hist(ax = ax)"
   ]
  },
  {
   "cell_type": "markdown",
   "metadata": {},
   "source": [
    "### 2. Write a tokenization function to process your text data"
   ]
  },
  {
   "cell_type": "code",
   "execution_count": 6,
   "metadata": {},
   "outputs": [],
   "source": [
    "def tokenize(text):\n",
    "    \"\"\"Normalize, tokenize and stem text string\n",
    "    \n",
    "    parameters:\n",
    "    text: string. String containing message\n",
    "       \n",
    "    Returns:\n",
    "    stemmed: list of strings. List containing normalized and stemmed word tokens.\n",
    "    \"\"\"\n",
    "    # Tokenizing words\n",
    "    tokens = nltk.word_tokenize(text)\n",
    "    # Stem word tokens and remove stop words\n",
    "    lemmatizer = nltk.WordNetLemmatizer()\n",
    "    \n",
    "    stemmed = [lemmatizer.lemmatize(w).lower().strip() for w in tokens]\n",
    "    \n",
    "    return stemmed"
   ]
  },
  {
   "cell_type": "markdown",
   "metadata": {},
   "source": [
    "### 3. Build a machine learning pipeline\n",
    "This machine pipeline should take in the `message` column as input and output classification results on the other 36 categories in the dataset. You may find the [MultiOutputClassifier](http://scikit-learn.org/stable/modules/generated/sklearn.multioutput.MultiOutputClassifier.html) helpful for predicting multiple target variables."
   ]
  },
  {
   "cell_type": "markdown",
   "metadata": {},
   "source": [
    "\n",
    "pipeline = Pipeline([\n",
    "                    ('vect', CountVectorizer(tokenizer=tokenize)),\n",
    "                    ('tfidf', TfidfTransformer()),\n",
    "                    ('clf', MultiOutputClassifier(RandomForestClassifier()))\n",
    "                    ])"
   ]
  },
  {
   "cell_type": "code",
   "execution_count": 14,
   "metadata": {},
   "outputs": [],
   "source": [
    "pipeline = Pipeline([('cvect', CountVectorizer(tokenizer = tokenize)),\n",
    "                     ('tfidf', TfidfTransformer()),\n",
    "                     ('clf', RandomForestClassifier())\n",
    "                     ])"
   ]
  },
  {
   "cell_type": "markdown",
   "metadata": {},
   "source": [
    "### 4. Train pipeline\n",
    "- Split data into train and test sets\n",
    "- Train pipeline"
   ]
  },
  {
   "cell_type": "code",
   "execution_count": 8,
   "metadata": {},
   "outputs": [],
   "source": [
    "#Split data into train and test sets\n",
    "X_train, X_test, y_train, y_test = train_test_split(X, y, random_state = 42)"
   ]
  },
  {
   "cell_type": "code",
   "execution_count": 9,
   "metadata": {},
   "outputs": [
    {
     "data": {
      "text/plain": [
       "array([0, 1])"
      ]
     },
     "metadata": {},
     "output_type": "display_data"
    },
    {
     "data": {
      "text/plain": [
       "array([0, 1])"
      ]
     },
     "metadata": {},
     "output_type": "display_data"
    }
   ],
   "source": [
    "display(np.unique(y_train))\n",
    "display(np.unique(y_test))"
   ]
  },
  {
   "cell_type": "code",
   "execution_count": 10,
   "metadata": {},
   "outputs": [
    {
     "data": {
      "text/plain": [
       "Pipeline(memory=None,\n",
       "     steps=[('cvect', CountVectorizer(analyzer='word', binary=False, decode_error='strict',\n",
       "        dtype=<class 'numpy.int64'>, encoding='utf-8', input='content',\n",
       "        lowercase=True, max_df=1.0, max_features=None, min_df=1,\n",
       "        ngram_range=(1, 1), preprocessor=None, stop_words=None,\n",
       "        stri...oob_score=False, random_state=None,\n",
       "            verbose=0, warm_start=False),\n",
       "           n_jobs=1))])"
      ]
     },
     "execution_count": 10,
     "metadata": {},
     "output_type": "execute_result"
    }
   ],
   "source": [
    "#train pipeline\n",
    "np.random.seed(15)\n",
    "pipeline.fit(X_train['message'], y_train)"
   ]
  },
  {
   "cell_type": "markdown",
   "metadata": {},
   "source": [
    "### 5. Test your model\n",
    "Report the f1 score, precision and recall for each output category of the dataset. You can do this by iterating through the columns and calling sklearn's `classification_report` on each."
   ]
  },
  {
   "cell_type": "code",
   "execution_count": 11,
   "metadata": {},
   "outputs": [
    {
     "name": "stdout",
     "output_type": "stream",
     "text": [
      "                        precision    recall  f1-score   support\n",
      "\n",
      "               related       0.84      0.91      0.88      4941\n",
      "               request       0.85      0.35      0.49      1152\n",
      "                 offer       0.00      0.00      0.00        29\n",
      "           aid_related       0.74      0.53      0.62      2744\n",
      "          medical_help       0.71      0.04      0.08       559\n",
      "      medical_products       0.77      0.07      0.13       334\n",
      "     search_and_rescue       0.71      0.03      0.05       191\n",
      "              security       0.00      0.00      0.00       111\n",
      "              military       1.00      0.01      0.02       208\n",
      "                 water       0.88      0.18      0.30       440\n",
      "                  food       0.83      0.30      0.44       714\n",
      "               shelter       0.79      0.16      0.26       605\n",
      "              clothing       0.67      0.02      0.04        94\n",
      "                 money       0.80      0.03      0.06       135\n",
      "        missing_people       0.00      0.00      0.00        71\n",
      "              refugees       0.50      0.00      0.01       251\n",
      "                 death       0.76      0.05      0.10       314\n",
      "             other_aid       0.46      0.02      0.04       856\n",
      "infrastructure_related       0.75      0.01      0.01       466\n",
      "             transport       0.82      0.03      0.05       320\n",
      "             buildings       0.67      0.03      0.05       362\n",
      "           electricity       0.67      0.02      0.03       117\n",
      "                 tools       0.00      0.00      0.00        40\n",
      "             hospitals       0.00      0.00      0.00        75\n",
      "                 shops       0.00      0.00      0.00        42\n",
      "           aid_centers       0.00      0.00      0.00        86\n",
      "  other_infrastructure       0.50      0.00      0.01       306\n",
      "       weather_related       0.82      0.47      0.60      1805\n",
      "                floods       0.78      0.11      0.19       524\n",
      "                 storm       0.80      0.21      0.34       607\n",
      "                  fire       0.00      0.00      0.00        66\n",
      "            earthquake       0.87      0.35      0.50       588\n",
      "                  cold       1.00      0.02      0.04       133\n",
      "         other_weather       0.67      0.02      0.04       355\n",
      "         direct_report       0.78      0.32      0.45      1267\n",
      "\n",
      "           avg / total       0.76      0.41      0.46     20908\n",
      "\n",
      "\n",
      "\n",
      "                         precision    recall  f1-score   support\n",
      "\n",
      "               related       0.99      1.00      1.00     14933\n",
      "               request       1.00      0.92      0.96      3312\n",
      "                 offer       1.00      0.74      0.85        88\n",
      "           aid_related       1.00      0.97      0.98      8096\n",
      "          medical_help       1.00      0.84      0.91      1521\n",
      "      medical_products       1.00      0.84      0.91       976\n",
      "     search_and_rescue       1.00      0.77      0.87       533\n",
      "              security       1.00      0.70      0.83       360\n",
      "              military       1.00      0.83      0.91       651\n",
      "                 water       1.00      0.92      0.96      1229\n",
      "                  food       1.00      0.94      0.97      2203\n",
      "               shelter       1.00      0.90      0.95      1703\n",
      "              clothing       1.00      0.82      0.90       310\n",
      "                 money       1.00      0.82      0.90       468\n",
      "        missing_people       1.00      0.77      0.87       227\n",
      "              refugees       1.00      0.79      0.88       623\n",
      "                 death       1.00      0.86      0.93       878\n",
      "             other_aid       1.00      0.85      0.92      2585\n",
      "infrastructure_related       1.00      0.79      0.88      1239\n",
      "             transport       1.00      0.78      0.88       879\n",
      "             buildings       1.00      0.87      0.93       969\n",
      "           electricity       1.00      0.84      0.91       415\n",
      "                 tools       1.00      0.71      0.83       119\n",
      "             hospitals       1.00      0.78      0.88       208\n",
      "                 shops       1.00      0.74      0.85        78\n",
      "           aid_centers       0.99      0.74      0.85       223\n",
      "  other_infrastructure       1.00      0.77      0.87       845\n",
      "       weather_related       1.00      0.96      0.98      5481\n",
      "                floods       1.00      0.88      0.94      1625\n",
      "                 storm       1.00      0.91      0.95      1833\n",
      "                  fire       1.00      0.81      0.89       216\n",
      "            earthquake       1.00      0.93      0.97      1864\n",
      "                  cold       1.00      0.82      0.90       395\n",
      "         other_weather       1.00      0.81      0.89      1021\n",
      "         direct_report       1.00      0.93      0.96      3796\n",
      "\n",
      "           avg / total       1.00      0.92      0.96     61902\n",
      "\n"
     ]
    }
   ],
   "source": [
    "#prediction with training set and test set\n",
    "y_pred_test = pipeline.predict(X_test['message'])\n",
    "y_pred_train = pipeline.predict(X_train['message'])\n",
    "\n",
    "print(classification_report(y_test.values, y_pred_test, target_names=y.columns.values))\n",
    "print()\n",
    "print('\\n',classification_report(y_train.values, y_pred_train, target_names=y.columns.values))"
   ]
  },
  {
   "cell_type": "markdown",
   "metadata": {},
   "source": [
    "### 6. Improve your model\n",
    "Use grid search to find better parameters. "
   ]
  },
  {
   "cell_type": "code",
   "execution_count": 15,
   "metadata": {},
   "outputs": [],
   "source": [
    "parameters = {'clf__max_depth': [10, 20, None],\n",
    "              'clf__min_samples_leaf': [1, 2, 4],\n",
    "              'clf__min_samples_split': [2, 5, 8],\n",
    "              'clf__n_estimators': [20, 50]}\n",
    "\n",
    "cv = GridSearchCV(pipeline, param_grid=parameters, scoring='f1_micro', verbose = 18, n_jobs=-1)"
   ]
  },
  {
   "cell_type": "code",
   "execution_count": 16,
   "metadata": {},
   "outputs": [
    {
     "name": "stdout",
     "output_type": "stream",
     "text": [
      "Fitting 3 folds for each of 54 candidates, totalling 162 fits\n",
      "[CV] clf__max_depth=10, clf__min_samples_leaf=1, clf__min_samples_split=2, clf__n_estimators=20 \n",
      "[CV]  clf__max_depth=10, clf__min_samples_leaf=1, clf__min_samples_split=2, clf__n_estimators=20, score=0.3932502368977331, total=  11.9s\n",
      "[CV] clf__max_depth=10, clf__min_samples_leaf=1, clf__min_samples_split=2, clf__n_estimators=20 \n"
     ]
    },
    {
     "name": "stderr",
     "output_type": "stream",
     "text": [
      "[Parallel(n_jobs=-1)]: Done   1 out of   1 | elapsed:   19.6s remaining:    0.0s\n"
     ]
    },
    {
     "name": "stdout",
     "output_type": "stream",
     "text": [
      "[CV]  clf__max_depth=10, clf__min_samples_leaf=1, clf__min_samples_split=2, clf__n_estimators=20, score=0.3893002657218777, total=  11.8s\n",
      "[CV] clf__max_depth=10, clf__min_samples_leaf=1, clf__min_samples_split=2, clf__n_estimators=20 \n"
     ]
    },
    {
     "name": "stderr",
     "output_type": "stream",
     "text": [
      "[Parallel(n_jobs=-1)]: Done   2 out of   2 | elapsed:   39.0s remaining:    0.0s\n"
     ]
    },
    {
     "name": "stdout",
     "output_type": "stream",
     "text": [
      "[CV]  clf__max_depth=10, clf__min_samples_leaf=1, clf__min_samples_split=2, clf__n_estimators=20, score=0.38275290215588725, total=  11.9s\n",
      "[CV] clf__max_depth=10, clf__min_samples_leaf=1, clf__min_samples_split=2, clf__n_estimators=50 \n"
     ]
    },
    {
     "name": "stderr",
     "output_type": "stream",
     "text": [
      "[Parallel(n_jobs=-1)]: Done   3 out of   3 | elapsed:   58.6s remaining:    0.0s\n"
     ]
    },
    {
     "name": "stdout",
     "output_type": "stream",
     "text": [
      "[CV]  clf__max_depth=10, clf__min_samples_leaf=1, clf__min_samples_split=2, clf__n_estimators=50, score=0.37881633705299605, total=  14.3s\n",
      "[CV] clf__max_depth=10, clf__min_samples_leaf=1, clf__min_samples_split=2, clf__n_estimators=50 \n"
     ]
    },
    {
     "name": "stderr",
     "output_type": "stream",
     "text": [
      "[Parallel(n_jobs=-1)]: Done   4 out of   4 | elapsed:  1.4min remaining:    0.0s\n"
     ]
    },
    {
     "name": "stdout",
     "output_type": "stream",
     "text": [
      "[CV]  clf__max_depth=10, clf__min_samples_leaf=1, clf__min_samples_split=2, clf__n_estimators=50, score=0.37628441516594474, total=  14.4s\n",
      "[CV] clf__max_depth=10, clf__min_samples_leaf=1, clf__min_samples_split=2, clf__n_estimators=50 \n"
     ]
    },
    {
     "name": "stderr",
     "output_type": "stream",
     "text": [
      "[Parallel(n_jobs=-1)]: Done   5 out of   5 | elapsed:  1.8min remaining:    0.0s\n"
     ]
    },
    {
     "name": "stdout",
     "output_type": "stream",
     "text": [
      "[CV]  clf__max_depth=10, clf__min_samples_leaf=1, clf__min_samples_split=2, clf__n_estimators=50, score=0.38036900369003696, total=  14.2s\n",
      "[CV] clf__max_depth=10, clf__min_samples_leaf=1, clf__min_samples_split=5, clf__n_estimators=20 \n"
     ]
    },
    {
     "name": "stderr",
     "output_type": "stream",
     "text": [
      "[Parallel(n_jobs=-1)]: Done   6 out of   6 | elapsed:  2.1min remaining:    0.0s\n"
     ]
    },
    {
     "name": "stdout",
     "output_type": "stream",
     "text": [
      "[CV]  clf__max_depth=10, clf__min_samples_leaf=1, clf__min_samples_split=5, clf__n_estimators=20, score=0.39132181599035765, total=  11.7s\n",
      "[CV] clf__max_depth=10, clf__min_samples_leaf=1, clf__min_samples_split=5, clf__n_estimators=20 \n"
     ]
    },
    {
     "name": "stderr",
     "output_type": "stream",
     "text": [
      "[Parallel(n_jobs=-1)]: Done   7 out of   7 | elapsed:  2.5min remaining:    0.0s\n"
     ]
    },
    {
     "name": "stdout",
     "output_type": "stream",
     "text": [
      "[CV]  clf__max_depth=10, clf__min_samples_leaf=1, clf__min_samples_split=5, clf__n_estimators=20, score=0.3749507397986601, total=  11.9s\n",
      "[CV] clf__max_depth=10, clf__min_samples_leaf=1, clf__min_samples_split=5, clf__n_estimators=20 \n"
     ]
    },
    {
     "name": "stderr",
     "output_type": "stream",
     "text": [
      "[Parallel(n_jobs=-1)]: Done   8 out of   8 | elapsed:  2.8min remaining:    0.0s\n"
     ]
    },
    {
     "name": "stdout",
     "output_type": "stream",
     "text": [
      "[CV]  clf__max_depth=10, clf__min_samples_leaf=1, clf__min_samples_split=5, clf__n_estimators=20, score=0.38061518034963493, total=  11.8s\n",
      "[CV] clf__max_depth=10, clf__min_samples_leaf=1, clf__min_samples_split=5, clf__n_estimators=50 \n"
     ]
    },
    {
     "name": "stderr",
     "output_type": "stream",
     "text": [
      "[Parallel(n_jobs=-1)]: Done   9 out of   9 | elapsed:  3.1min remaining:    0.0s\n"
     ]
    },
    {
     "name": "stdout",
     "output_type": "stream",
     "text": [
      "[CV]  clf__max_depth=10, clf__min_samples_leaf=1, clf__min_samples_split=5, clf__n_estimators=50, score=0.3785038122951122, total=  14.1s\n",
      "[CV] clf__max_depth=10, clf__min_samples_leaf=1, clf__min_samples_split=5, clf__n_estimators=50 \n"
     ]
    },
    {
     "name": "stderr",
     "output_type": "stream",
     "text": [
      "[Parallel(n_jobs=-1)]: Done  10 out of  10 | elapsed:  3.5min remaining:    0.0s\n"
     ]
    },
    {
     "name": "stdout",
     "output_type": "stream",
     "text": [
      "[CV]  clf__max_depth=10, clf__min_samples_leaf=1, clf__min_samples_split=5, clf__n_estimators=50, score=0.37942122186495175, total=  14.3s\n",
      "[CV] clf__max_depth=10, clf__min_samples_leaf=1, clf__min_samples_split=5, clf__n_estimators=50 \n"
     ]
    },
    {
     "name": "stderr",
     "output_type": "stream",
     "text": [
      "[Parallel(n_jobs=-1)]: Done  11 out of  11 | elapsed:  3.9min remaining:    0.0s\n"
     ]
    },
    {
     "name": "stdout",
     "output_type": "stream",
     "text": [
      "[CV]  clf__max_depth=10, clf__min_samples_leaf=1, clf__min_samples_split=5, clf__n_estimators=50, score=0.37979544363622936, total=  14.4s\n",
      "[CV] clf__max_depth=10, clf__min_samples_leaf=1, clf__min_samples_split=8, clf__n_estimators=20 \n"
     ]
    },
    {
     "name": "stderr",
     "output_type": "stream",
     "text": [
      "[Parallel(n_jobs=-1)]: Done  12 out of  12 | elapsed:  4.3min remaining:    0.0s\n"
     ]
    },
    {
     "name": "stdout",
     "output_type": "stream",
     "text": [
      "[CV]  clf__max_depth=10, clf__min_samples_leaf=1, clf__min_samples_split=8, clf__n_estimators=20, score=0.38699044061092186, total=  11.9s\n",
      "[CV] clf__max_depth=10, clf__min_samples_leaf=1, clf__min_samples_split=8, clf__n_estimators=20 \n"
     ]
    },
    {
     "name": "stderr",
     "output_type": "stream",
     "text": [
      "[Parallel(n_jobs=-1)]: Done  13 out of  13 | elapsed:  4.6min remaining:    0.0s\n"
     ]
    },
    {
     "name": "stdout",
     "output_type": "stream",
     "text": [
      "[CV]  clf__max_depth=10, clf__min_samples_leaf=1, clf__min_samples_split=8, clf__n_estimators=20, score=0.3795307645609399, total=  11.9s\n",
      "[CV] clf__max_depth=10, clf__min_samples_leaf=1, clf__min_samples_split=8, clf__n_estimators=20 \n"
     ]
    },
    {
     "name": "stderr",
     "output_type": "stream",
     "text": [
      "[Parallel(n_jobs=-1)]: Done  14 out of  14 | elapsed:  4.9min remaining:    0.0s\n"
     ]
    },
    {
     "name": "stdout",
     "output_type": "stream",
     "text": [
      "[CV]  clf__max_depth=10, clf__min_samples_leaf=1, clf__min_samples_split=8, clf__n_estimators=20, score=0.38775285436322915, total=  11.9s\n",
      "[CV] clf__max_depth=10, clf__min_samples_leaf=1, clf__min_samples_split=8, clf__n_estimators=50 \n"
     ]
    },
    {
     "name": "stderr",
     "output_type": "stream",
     "text": [
      "[Parallel(n_jobs=-1)]: Done  15 out of  15 | elapsed:  5.3min remaining:    0.0s\n"
     ]
    },
    {
     "name": "stdout",
     "output_type": "stream",
     "text": [
      "[CV]  clf__max_depth=10, clf__min_samples_leaf=1, clf__min_samples_split=8, clf__n_estimators=50, score=0.3786014295188269, total=  14.3s\n",
      "[CV] clf__max_depth=10, clf__min_samples_leaf=1, clf__min_samples_split=8, clf__n_estimators=50 \n"
     ]
    },
    {
     "name": "stderr",
     "output_type": "stream",
     "text": [
      "[Parallel(n_jobs=-1)]: Done  16 out of  16 | elapsed:  5.6min remaining:    0.0s\n"
     ]
    },
    {
     "name": "stdout",
     "output_type": "stream",
     "text": [
      "[CV]  clf__max_depth=10, clf__min_samples_leaf=1, clf__min_samples_split=8, clf__n_estimators=50, score=0.3768696772346668, total=  14.4s\n",
      "[CV] clf__max_depth=10, clf__min_samples_leaf=1, clf__min_samples_split=8, clf__n_estimators=50 \n"
     ]
    },
    {
     "name": "stderr",
     "output_type": "stream",
     "text": [
      "[Parallel(n_jobs=-1)]: Done  17 out of  17 | elapsed:  6.0min remaining:    0.0s\n"
     ]
    },
    {
     "name": "stdout",
     "output_type": "stream",
     "text": [
      "[CV]  clf__max_depth=10, clf__min_samples_leaf=1, clf__min_samples_split=8, clf__n_estimators=50, score=0.382756079587325, total=  14.2s\n",
      "[CV] clf__max_depth=10, clf__min_samples_leaf=2, clf__min_samples_split=2, clf__n_estimators=20 \n",
      "[CV]  clf__max_depth=10, clf__min_samples_leaf=2, clf__min_samples_split=2, clf__n_estimators=20, score=0.3847761522384776, total=  11.8s\n",
      "[CV] clf__max_depth=10, clf__min_samples_leaf=2, clf__min_samples_split=2, clf__n_estimators=20 \n",
      "[CV]  clf__max_depth=10, clf__min_samples_leaf=2, clf__min_samples_split=2, clf__n_estimators=20, score=0.38199843092504104, total=  11.7s\n",
      "[CV] clf__max_depth=10, clf__min_samples_leaf=2, clf__min_samples_split=2, clf__n_estimators=20 \n",
      "[CV]  clf__max_depth=10, clf__min_samples_leaf=2, clf__min_samples_split=2, clf__n_estimators=20, score=0.3877506058603217, total=  11.8s\n",
      "[CV] clf__max_depth=10, clf__min_samples_leaf=2, clf__min_samples_split=2, clf__n_estimators=50 \n",
      "[CV]  clf__max_depth=10, clf__min_samples_leaf=2, clf__min_samples_split=2, clf__n_estimators=50, score=0.37827880931329205, total=  14.1s\n",
      "[CV] clf__max_depth=10, clf__min_samples_leaf=2, clf__min_samples_split=2, clf__n_estimators=50 \n",
      "[CV]  clf__max_depth=10, clf__min_samples_leaf=2, clf__min_samples_split=2, clf__n_estimators=50, score=0.37627094372046394, total=  14.1s\n",
      "[CV] clf__max_depth=10, clf__min_samples_leaf=2, clf__min_samples_split=2, clf__n_estimators=50 \n",
      "[CV]  clf__max_depth=10, clf__min_samples_leaf=2, clf__min_samples_split=2, clf__n_estimators=50, score=0.3787638083274836, total=  14.2s\n",
      "[CV] clf__max_depth=10, clf__min_samples_leaf=2, clf__min_samples_split=5, clf__n_estimators=20 \n",
      "[CV]  clf__max_depth=10, clf__min_samples_leaf=2, clf__min_samples_split=5, clf__n_estimators=20, score=0.3870353415125435, total=  11.8s\n",
      "[CV] clf__max_depth=10, clf__min_samples_leaf=2, clf__min_samples_split=5, clf__n_estimators=20 \n",
      "[CV]  clf__max_depth=10, clf__min_samples_leaf=2, clf__min_samples_split=5, clf__n_estimators=20, score=0.3790233272603865, total=  12.0s\n",
      "[CV] clf__max_depth=10, clf__min_samples_leaf=2, clf__min_samples_split=5, clf__n_estimators=20 \n",
      "[CV]  clf__max_depth=10, clf__min_samples_leaf=2, clf__min_samples_split=5, clf__n_estimators=20, score=0.3841313068119088, total=  11.9s\n",
      "[CV] clf__max_depth=10, clf__min_samples_leaf=2, clf__min_samples_split=5, clf__n_estimators=50 \n",
      "[CV]  clf__max_depth=10, clf__min_samples_leaf=2, clf__min_samples_split=5, clf__n_estimators=50, score=0.3778703328296045, total=  14.4s\n",
      "[CV] clf__max_depth=10, clf__min_samples_leaf=2, clf__min_samples_split=5, clf__n_estimators=50 \n",
      "[CV]  clf__max_depth=10, clf__min_samples_leaf=2, clf__min_samples_split=5, clf__n_estimators=50, score=0.37827983127189524, total=  14.2s\n",
      "[CV] clf__max_depth=10, clf__min_samples_leaf=2, clf__min_samples_split=5, clf__n_estimators=50 \n",
      "[CV]  clf__max_depth=10, clf__min_samples_leaf=2, clf__min_samples_split=5, clf__n_estimators=50, score=0.3813071702567129, total=  14.0s\n",
      "[CV] clf__max_depth=10, clf__min_samples_leaf=2, clf__min_samples_split=8, clf__n_estimators=20 \n",
      "[CV]  clf__max_depth=10, clf__min_samples_leaf=2, clf__min_samples_split=8, clf__n_estimators=20, score=0.384392533646265, total=  11.8s\n",
      "[CV] clf__max_depth=10, clf__min_samples_leaf=2, clf__min_samples_split=8, clf__n_estimators=20 \n",
      "[CV]  clf__max_depth=10, clf__min_samples_leaf=2, clf__min_samples_split=8, clf__n_estimators=20, score=0.37686033199771035, total=  11.8s\n",
      "[CV] clf__max_depth=10, clf__min_samples_leaf=2, clf__min_samples_split=8, clf__n_estimators=20 \n",
      "[CV]  clf__max_depth=10, clf__min_samples_leaf=2, clf__min_samples_split=8, clf__n_estimators=20, score=0.39016525594518336, total=  11.8s\n",
      "[CV] clf__max_depth=10, clf__min_samples_leaf=2, clf__min_samples_split=8, clf__n_estimators=50 \n",
      "[CV]  clf__max_depth=10, clf__min_samples_leaf=2, clf__min_samples_split=8, clf__n_estimators=50, score=0.3835505782999817, total=  14.1s\n",
      "[CV] clf__max_depth=10, clf__min_samples_leaf=2, clf__min_samples_split=8, clf__n_estimators=50 \n",
      "[CV]  clf__max_depth=10, clf__min_samples_leaf=2, clf__min_samples_split=8, clf__n_estimators=50, score=0.3771694399713723, total=  14.1s\n",
      "[CV] clf__max_depth=10, clf__min_samples_leaf=2, clf__min_samples_split=8, clf__n_estimators=50 \n",
      "[CV]  clf__max_depth=10, clf__min_samples_leaf=2, clf__min_samples_split=8, clf__n_estimators=50, score=0.3835475199764333, total=  14.0s\n",
      "[CV] clf__max_depth=10, clf__min_samples_leaf=4, clf__min_samples_split=2, clf__n_estimators=20 \n",
      "[CV]  clf__max_depth=10, clf__min_samples_leaf=4, clf__min_samples_split=2, clf__n_estimators=20, score=0.3809558823529412, total=  11.8s\n",
      "[CV] clf__max_depth=10, clf__min_samples_leaf=4, clf__min_samples_split=2, clf__n_estimators=20 \n",
      "[CV]  clf__max_depth=10, clf__min_samples_leaf=4, clf__min_samples_split=2, clf__n_estimators=20, score=0.3809863678538291, total=  11.6s\n",
      "[CV] clf__max_depth=10, clf__min_samples_leaf=4, clf__min_samples_split=2, clf__n_estimators=20 \n",
      "[CV]  clf__max_depth=10, clf__min_samples_leaf=4, clf__min_samples_split=2, clf__n_estimators=20, score=0.38533661800933927, total=  11.6s\n",
      "[CV] clf__max_depth=10, clf__min_samples_leaf=4, clf__min_samples_split=2, clf__n_estimators=50 \n",
      "[CV]  clf__max_depth=10, clf__min_samples_leaf=4, clf__min_samples_split=2, clf__n_estimators=50, score=0.3773501437735014, total=  14.0s\n",
      "[CV] clf__max_depth=10, clf__min_samples_leaf=4, clf__min_samples_split=2, clf__n_estimators=50 \n",
      "[CV]  clf__max_depth=10, clf__min_samples_leaf=4, clf__min_samples_split=2, clf__n_estimators=50, score=0.37743677790893165, total=  14.1s\n",
      "[CV] clf__max_depth=10, clf__min_samples_leaf=4, clf__min_samples_split=2, clf__n_estimators=50 \n",
      "[CV]  clf__max_depth=10, clf__min_samples_leaf=4, clf__min_samples_split=2, clf__n_estimators=50, score=0.3848106855061265, total=  14.0s\n",
      "[CV] clf__max_depth=10, clf__min_samples_leaf=4, clf__min_samples_split=5, clf__n_estimators=20 \n",
      "[CV]  clf__max_depth=10, clf__min_samples_leaf=4, clf__min_samples_split=5, clf__n_estimators=20, score=0.38164908282174764, total=  11.7s\n",
      "[CV] clf__max_depth=10, clf__min_samples_leaf=4, clf__min_samples_split=5, clf__n_estimators=20 \n",
      "[CV]  clf__max_depth=10, clf__min_samples_leaf=4, clf__min_samples_split=5, clf__n_estimators=20, score=0.3720663173760138, total=  11.7s\n",
      "[CV] clf__max_depth=10, clf__min_samples_leaf=4, clf__min_samples_split=5, clf__n_estimators=20 \n",
      "[CV]  clf__max_depth=10, clf__min_samples_leaf=4, clf__min_samples_split=5, clf__n_estimators=20, score=0.3778369187550824, total=  11.7s\n",
      "[CV] clf__max_depth=10, clf__min_samples_leaf=4, clf__min_samples_split=5, clf__n_estimators=50 \n",
      "[CV]  clf__max_depth=10, clf__min_samples_leaf=4, clf__min_samples_split=5, clf__n_estimators=50, score=0.37892178524083076, total=  14.1s\n",
      "[CV] clf__max_depth=10, clf__min_samples_leaf=4, clf__min_samples_split=5, clf__n_estimators=50 \n",
      "[CV]  clf__max_depth=10, clf__min_samples_leaf=4, clf__min_samples_split=5, clf__n_estimators=50, score=0.37927461139896373, total=  13.9s\n",
      "[CV] clf__max_depth=10, clf__min_samples_leaf=4, clf__min_samples_split=5, clf__n_estimators=50 \n",
      "[CV]  clf__max_depth=10, clf__min_samples_leaf=4, clf__min_samples_split=5, clf__n_estimators=50, score=0.38641625932595836, total=  14.0s\n",
      "[CV] clf__max_depth=10, clf__min_samples_leaf=4, clf__min_samples_split=8, clf__n_estimators=20 \n",
      "[CV]  clf__max_depth=10, clf__min_samples_leaf=4, clf__min_samples_split=8, clf__n_estimators=20, score=0.392647434260914, total=  11.8s\n",
      "[CV] clf__max_depth=10, clf__min_samples_leaf=4, clf__min_samples_split=8, clf__n_estimators=20 \n",
      "[CV]  clf__max_depth=10, clf__min_samples_leaf=4, clf__min_samples_split=8, clf__n_estimators=20, score=0.37728020602332074, total=  11.7s\n",
      "[CV] clf__max_depth=10, clf__min_samples_leaf=4, clf__min_samples_split=8, clf__n_estimators=20 \n",
      "[CV]  clf__max_depth=10, clf__min_samples_leaf=4, clf__min_samples_split=8, clf__n_estimators=20, score=0.3870872966322671, total=  11.7s\n",
      "[CV] clf__max_depth=10, clf__min_samples_leaf=4, clf__min_samples_split=8, clf__n_estimators=50 \n",
      "[CV]  clf__max_depth=10, clf__min_samples_leaf=4, clf__min_samples_split=8, clf__n_estimators=50, score=0.3839236557166453, total=  14.1s\n",
      "[CV] clf__max_depth=10, clf__min_samples_leaf=4, clf__min_samples_split=8, clf__n_estimators=50 \n",
      "[CV]  clf__max_depth=10, clf__min_samples_leaf=4, clf__min_samples_split=8, clf__n_estimators=50, score=0.3725687217397545, total=  14.1s\n",
      "[CV] clf__max_depth=10, clf__min_samples_leaf=4, clf__min_samples_split=8, clf__n_estimators=50 \n",
      "[CV]  clf__max_depth=10, clf__min_samples_leaf=4, clf__min_samples_split=8, clf__n_estimators=50, score=0.387440323172971, total=  13.8s\n",
      "[CV] clf__max_depth=20, clf__min_samples_leaf=1, clf__min_samples_split=2, clf__n_estimators=20 \n",
      "[CV]  clf__max_depth=20, clf__min_samples_leaf=1, clf__min_samples_split=2, clf__n_estimators=20, score=0.40579710144927533, total=  12.6s\n",
      "[CV] clf__max_depth=20, clf__min_samples_leaf=1, clf__min_samples_split=2, clf__n_estimators=20 \n",
      "[CV]  clf__max_depth=20, clf__min_samples_leaf=1, clf__min_samples_split=2, clf__n_estimators=20, score=0.41217700596296686, total=  12.6s\n",
      "[CV] clf__max_depth=20, clf__min_samples_leaf=1, clf__min_samples_split=2, clf__n_estimators=20 \n",
      "[CV]  clf__max_depth=20, clf__min_samples_leaf=1, clf__min_samples_split=2, clf__n_estimators=20, score=0.42001075847229696, total=  12.5s\n",
      "[CV] clf__max_depth=20, clf__min_samples_leaf=1, clf__min_samples_split=2, clf__n_estimators=50 \n",
      "[CV]  clf__max_depth=20, clf__min_samples_leaf=1, clf__min_samples_split=2, clf__n_estimators=50, score=0.4113561944514411, total=  16.5s\n",
      "[CV] clf__max_depth=20, clf__min_samples_leaf=1, clf__min_samples_split=2, clf__n_estimators=50 \n",
      "[CV]  clf__max_depth=20, clf__min_samples_leaf=1, clf__min_samples_split=2, clf__n_estimators=50, score=0.395307752102325, total=  16.2s\n",
      "[CV] clf__max_depth=20, clf__min_samples_leaf=1, clf__min_samples_split=2, clf__n_estimators=50 \n",
      "[CV]  clf__max_depth=20, clf__min_samples_leaf=1, clf__min_samples_split=2, clf__n_estimators=50, score=0.41179017245111477, total=  16.4s\n",
      "[CV] clf__max_depth=20, clf__min_samples_leaf=1, clf__min_samples_split=5, clf__n_estimators=20 \n",
      "[CV]  clf__max_depth=20, clf__min_samples_leaf=1, clf__min_samples_split=5, clf__n_estimators=20, score=0.41396902956921644, total=  12.4s\n",
      "[CV] clf__max_depth=20, clf__min_samples_leaf=1, clf__min_samples_split=5, clf__n_estimators=20 \n",
      "[CV]  clf__max_depth=20, clf__min_samples_leaf=1, clf__min_samples_split=5, clf__n_estimators=20, score=0.40574531441583467, total=  12.4s\n",
      "[CV] clf__max_depth=20, clf__min_samples_leaf=1, clf__min_samples_split=5, clf__n_estimators=20 \n",
      "[CV]  clf__max_depth=20, clf__min_samples_leaf=1, clf__min_samples_split=5, clf__n_estimators=20, score=0.41860964865155254, total=  12.4s\n",
      "[CV] clf__max_depth=20, clf__min_samples_leaf=1, clf__min_samples_split=5, clf__n_estimators=50 \n",
      "[CV]  clf__max_depth=20, clf__min_samples_leaf=1, clf__min_samples_split=5, clf__n_estimators=50, score=0.4106480314109722, total=  16.0s\n",
      "[CV] clf__max_depth=20, clf__min_samples_leaf=1, clf__min_samples_split=5, clf__n_estimators=50 \n",
      "[CV]  clf__max_depth=20, clf__min_samples_leaf=1, clf__min_samples_split=5, clf__n_estimators=50, score=0.40074642630800644, total=  16.1s\n",
      "[CV] clf__max_depth=20, clf__min_samples_leaf=1, clf__min_samples_split=5, clf__n_estimators=50 \n",
      "[CV]  clf__max_depth=20, clf__min_samples_leaf=1, clf__min_samples_split=5, clf__n_estimators=50, score=0.4099859098955887, total=  15.9s\n",
      "[CV] clf__max_depth=20, clf__min_samples_leaf=1, clf__min_samples_split=8, clf__n_estimators=20 \n",
      "[CV]  clf__max_depth=20, clf__min_samples_leaf=1, clf__min_samples_split=8, clf__n_estimators=20, score=0.4231373108763916, total=  12.5s\n",
      "[CV] clf__max_depth=20, clf__min_samples_leaf=1, clf__min_samples_split=8, clf__n_estimators=20 \n",
      "[CV]  clf__max_depth=20, clf__min_samples_leaf=1, clf__min_samples_split=8, clf__n_estimators=20, score=0.4121034446654801, total=  12.5s\n",
      "[CV] clf__max_depth=20, clf__min_samples_leaf=1, clf__min_samples_split=8, clf__n_estimators=20 \n",
      "[CV]  clf__max_depth=20, clf__min_samples_leaf=1, clf__min_samples_split=8, clf__n_estimators=20, score=0.41517712641611226, total=  12.3s\n",
      "[CV] clf__max_depth=20, clf__min_samples_leaf=1, clf__min_samples_split=8, clf__n_estimators=50 \n",
      "[CV]  clf__max_depth=20, clf__min_samples_leaf=1, clf__min_samples_split=8, clf__n_estimators=50, score=0.4106994995859884, total=  16.2s\n",
      "[CV] clf__max_depth=20, clf__min_samples_leaf=1, clf__min_samples_split=8, clf__n_estimators=50 \n",
      "[CV]  clf__max_depth=20, clf__min_samples_leaf=1, clf__min_samples_split=8, clf__n_estimators=50, score=0.4044352433418717, total=  15.6s\n",
      "[CV] clf__max_depth=20, clf__min_samples_leaf=1, clf__min_samples_split=8, clf__n_estimators=50 \n",
      "[CV]  clf__max_depth=20, clf__min_samples_leaf=1, clf__min_samples_split=8, clf__n_estimators=50, score=0.4136812513515462, total=  15.9s\n",
      "[CV] clf__max_depth=20, clf__min_samples_leaf=2, clf__min_samples_split=2, clf__n_estimators=20 \n",
      "[CV]  clf__max_depth=20, clf__min_samples_leaf=2, clf__min_samples_split=2, clf__n_estimators=20, score=0.4137014828910991, total=  12.1s\n",
      "[CV] clf__max_depth=20, clf__min_samples_leaf=2, clf__min_samples_split=2, clf__n_estimators=20 \n",
      "[CV]  clf__max_depth=20, clf__min_samples_leaf=2, clf__min_samples_split=2, clf__n_estimators=20, score=0.41303212781509974, total=  12.4s\n",
      "[CV] clf__max_depth=20, clf__min_samples_leaf=2, clf__min_samples_split=2, clf__n_estimators=20 \n",
      "[CV]  clf__max_depth=20, clf__min_samples_leaf=2, clf__min_samples_split=2, clf__n_estimators=20, score=0.41239863038385294, total=  12.4s\n",
      "[CV] clf__max_depth=20, clf__min_samples_leaf=2, clf__min_samples_split=2, clf__n_estimators=50 \n",
      "[CV]  clf__max_depth=20, clf__min_samples_leaf=2, clf__min_samples_split=2, clf__n_estimators=50, score=0.41478129713423834, total=  15.3s\n",
      "[CV] clf__max_depth=20, clf__min_samples_leaf=2, clf__min_samples_split=2, clf__n_estimators=50 \n",
      "[CV]  clf__max_depth=20, clf__min_samples_leaf=2, clf__min_samples_split=2, clf__n_estimators=50, score=0.40268550739920556, total=  15.4s\n",
      "[CV] clf__max_depth=20, clf__min_samples_leaf=2, clf__min_samples_split=2, clf__n_estimators=50 \n",
      "[CV]  clf__max_depth=20, clf__min_samples_leaf=2, clf__min_samples_split=2, clf__n_estimators=50, score=0.41159483069814456, total=  15.2s\n",
      "[CV] clf__max_depth=20, clf__min_samples_leaf=2, clf__min_samples_split=5, clf__n_estimators=20 \n",
      "[CV]  clf__max_depth=20, clf__min_samples_leaf=2, clf__min_samples_split=5, clf__n_estimators=20, score=0.4147462129370378, total=  12.5s\n",
      "[CV] clf__max_depth=20, clf__min_samples_leaf=2, clf__min_samples_split=5, clf__n_estimators=20 \n",
      "[CV]  clf__max_depth=20, clf__min_samples_leaf=2, clf__min_samples_split=5, clf__n_estimators=20, score=0.4011529808773903, total=  12.4s\n",
      "[CV] clf__max_depth=20, clf__min_samples_leaf=2, clf__min_samples_split=5, clf__n_estimators=20 \n",
      "[CV]  clf__max_depth=20, clf__min_samples_leaf=2, clf__min_samples_split=5, clf__n_estimators=20, score=0.40890044791215135, total=  12.2s\n",
      "[CV] clf__max_depth=20, clf__min_samples_leaf=2, clf__min_samples_split=5, clf__n_estimators=50 \n",
      "[CV]  clf__max_depth=20, clf__min_samples_leaf=2, clf__min_samples_split=5, clf__n_estimators=50, score=0.4113454754877258, total=  15.5s\n",
      "[CV] clf__max_depth=20, clf__min_samples_leaf=2, clf__min_samples_split=5, clf__n_estimators=50 \n",
      "[CV]  clf__max_depth=20, clf__min_samples_leaf=2, clf__min_samples_split=5, clf__n_estimators=50, score=0.403817811776265, total=  15.4s\n",
      "[CV] clf__max_depth=20, clf__min_samples_leaf=2, clf__min_samples_split=5, clf__n_estimators=50 \n",
      "[CV]  clf__max_depth=20, clf__min_samples_leaf=2, clf__min_samples_split=5, clf__n_estimators=50, score=0.4122038299253488, total=  15.2s\n",
      "[CV] clf__max_depth=20, clf__min_samples_leaf=2, clf__min_samples_split=8, clf__n_estimators=20 \n",
      "[CV]  clf__max_depth=20, clf__min_samples_leaf=2, clf__min_samples_split=8, clf__n_estimators=20, score=0.4190087963956233, total=  12.2s\n",
      "[CV] clf__max_depth=20, clf__min_samples_leaf=2, clf__min_samples_split=8, clf__n_estimators=20 \n",
      "[CV]  clf__max_depth=20, clf__min_samples_leaf=2, clf__min_samples_split=8, clf__n_estimators=20, score=0.41368021453696924, total=  12.4s\n",
      "[CV] clf__max_depth=20, clf__min_samples_leaf=2, clf__min_samples_split=8, clf__n_estimators=20 \n",
      "[CV]  clf__max_depth=20, clf__min_samples_leaf=2, clf__min_samples_split=8, clf__n_estimators=20, score=0.4131374243733794, total=  12.3s\n",
      "[CV] clf__max_depth=20, clf__min_samples_leaf=2, clf__min_samples_split=8, clf__n_estimators=50 \n",
      "[CV]  clf__max_depth=20, clf__min_samples_leaf=2, clf__min_samples_split=8, clf__n_estimators=50, score=0.41254766529966186, total=  15.5s\n",
      "[CV] clf__max_depth=20, clf__min_samples_leaf=2, clf__min_samples_split=8, clf__n_estimators=50 \n",
      "[CV]  clf__max_depth=20, clf__min_samples_leaf=2, clf__min_samples_split=8, clf__n_estimators=50, score=0.39952102556878216, total=  15.1s\n",
      "[CV] clf__max_depth=20, clf__min_samples_leaf=2, clf__min_samples_split=8, clf__n_estimators=50 \n",
      "[CV]  clf__max_depth=20, clf__min_samples_leaf=2, clf__min_samples_split=8, clf__n_estimators=50, score=0.40946873870618, total=  15.3s\n",
      "[CV] clf__max_depth=20, clf__min_samples_leaf=4, clf__min_samples_split=2, clf__n_estimators=20 \n",
      "[CV]  clf__max_depth=20, clf__min_samples_leaf=4, clf__min_samples_split=2, clf__n_estimators=20, score=0.41737075755405983, total=  12.4s\n",
      "[CV] clf__max_depth=20, clf__min_samples_leaf=4, clf__min_samples_split=2, clf__n_estimators=20 \n",
      "[CV]  clf__max_depth=20, clf__min_samples_leaf=4, clf__min_samples_split=2, clf__n_estimators=20, score=0.40782611739176083, total=  12.2s\n",
      "[CV] clf__max_depth=20, clf__min_samples_leaf=4, clf__min_samples_split=2, clf__n_estimators=20 \n",
      "[CV]  clf__max_depth=20, clf__min_samples_leaf=4, clf__min_samples_split=2, clf__n_estimators=20, score=0.41598390110679884, total=  12.3s\n",
      "[CV] clf__max_depth=20, clf__min_samples_leaf=4, clf__min_samples_split=2, clf__n_estimators=50 \n",
      "[CV]  clf__max_depth=20, clf__min_samples_leaf=4, clf__min_samples_split=2, clf__n_estimators=50, score=0.4047567411262922, total=  15.2s\n",
      "[CV] clf__max_depth=20, clf__min_samples_leaf=4, clf__min_samples_split=2, clf__n_estimators=50 \n",
      "[CV]  clf__max_depth=20, clf__min_samples_leaf=4, clf__min_samples_split=2, clf__n_estimators=50, score=0.4067547209473426, total=  15.2s\n",
      "[CV] clf__max_depth=20, clf__min_samples_leaf=4, clf__min_samples_split=2, clf__n_estimators=50 \n",
      "[CV]  clf__max_depth=20, clf__min_samples_leaf=4, clf__min_samples_split=2, clf__n_estimators=50, score=0.40367305458768876, total=  15.4s\n",
      "[CV] clf__max_depth=20, clf__min_samples_leaf=4, clf__min_samples_split=5, clf__n_estimators=20 \n",
      "[CV]  clf__max_depth=20, clf__min_samples_leaf=4, clf__min_samples_split=5, clf__n_estimators=20, score=0.41496574236826056, total=  12.4s\n",
      "[CV] clf__max_depth=20, clf__min_samples_leaf=4, clf__min_samples_split=5, clf__n_estimators=20 \n",
      "[CV]  clf__max_depth=20, clf__min_samples_leaf=4, clf__min_samples_split=5, clf__n_estimators=20, score=0.40374631682334783, total=  12.3s\n",
      "[CV] clf__max_depth=20, clf__min_samples_leaf=4, clf__min_samples_split=5, clf__n_estimators=20 \n",
      "[CV]  clf__max_depth=20, clf__min_samples_leaf=4, clf__min_samples_split=5, clf__n_estimators=20, score=0.4027445001089087, total=  12.0s\n",
      "[CV] clf__max_depth=20, clf__min_samples_leaf=4, clf__min_samples_split=5, clf__n_estimators=50 \n",
      "[CV]  clf__max_depth=20, clf__min_samples_leaf=4, clf__min_samples_split=5, clf__n_estimators=50, score=0.40295480880648904, total=  14.9s\n",
      "[CV] clf__max_depth=20, clf__min_samples_leaf=4, clf__min_samples_split=5, clf__n_estimators=50 \n",
      "[CV]  clf__max_depth=20, clf__min_samples_leaf=4, clf__min_samples_split=5, clf__n_estimators=50, score=0.39954924816001686, total=  14.9s\n",
      "[CV] clf__max_depth=20, clf__min_samples_leaf=4, clf__min_samples_split=5, clf__n_estimators=50 \n",
      "[CV]  clf__max_depth=20, clf__min_samples_leaf=4, clf__min_samples_split=5, clf__n_estimators=50, score=0.40927003868541884, total=  15.0s\n",
      "[CV] clf__max_depth=20, clf__min_samples_leaf=4, clf__min_samples_split=8, clf__n_estimators=20 \n",
      "[CV]  clf__max_depth=20, clf__min_samples_leaf=4, clf__min_samples_split=8, clf__n_estimators=20, score=0.4094068498577448, total=  12.2s\n",
      "[CV] clf__max_depth=20, clf__min_samples_leaf=4, clf__min_samples_split=8, clf__n_estimators=20 \n",
      "[CV]  clf__max_depth=20, clf__min_samples_leaf=4, clf__min_samples_split=8, clf__n_estimators=20, score=0.4022475856014048, total=  12.2s\n",
      "[CV] clf__max_depth=20, clf__min_samples_leaf=4, clf__min_samples_split=8, clf__n_estimators=20 \n",
      "[CV]  clf__max_depth=20, clf__min_samples_leaf=4, clf__min_samples_split=8, clf__n_estimators=20, score=0.41569276133625804, total=  12.1s\n",
      "[CV] clf__max_depth=20, clf__min_samples_leaf=4, clf__min_samples_split=8, clf__n_estimators=50 \n",
      "[CV]  clf__max_depth=20, clf__min_samples_leaf=4, clf__min_samples_split=8, clf__n_estimators=50, score=0.406946099137153, total=  15.1s\n",
      "[CV] clf__max_depth=20, clf__min_samples_leaf=4, clf__min_samples_split=8, clf__n_estimators=50 \n",
      "[CV]  clf__max_depth=20, clf__min_samples_leaf=4, clf__min_samples_split=8, clf__n_estimators=50, score=0.4000844654043781, total=  15.0s\n",
      "[CV] clf__max_depth=20, clf__min_samples_leaf=4, clf__min_samples_split=8, clf__n_estimators=50 \n",
      "[CV]  clf__max_depth=20, clf__min_samples_leaf=4, clf__min_samples_split=8, clf__n_estimators=50, score=0.4130246646473388, total=  15.0s\n",
      "[CV] clf__max_depth=None, clf__min_samples_leaf=1, clf__min_samples_split=2, clf__n_estimators=20 \n",
      "[CV]  clf__max_depth=None, clf__min_samples_leaf=1, clf__min_samples_split=2, clf__n_estimators=20, score=0.532110703567856, total=  26.1s\n",
      "[CV] clf__max_depth=None, clf__min_samples_leaf=1, clf__min_samples_split=2, clf__n_estimators=20 \n",
      "[CV]  clf__max_depth=None, clf__min_samples_leaf=1, clf__min_samples_split=2, clf__n_estimators=20, score=0.5421740802461223, total=  26.5s\n",
      "[CV] clf__max_depth=None, clf__min_samples_leaf=1, clf__min_samples_split=2, clf__n_estimators=20 \n",
      "[CV]  clf__max_depth=None, clf__min_samples_leaf=1, clf__min_samples_split=2, clf__n_estimators=20, score=0.5398875095683429, total=  26.0s\n",
      "[CV] clf__max_depth=None, clf__min_samples_leaf=1, clf__min_samples_split=2, clf__n_estimators=50 \n",
      "[CV]  clf__max_depth=None, clf__min_samples_leaf=1, clf__min_samples_split=2, clf__n_estimators=50, score=0.5563347971422954, total=  50.0s\n",
      "[CV] clf__max_depth=None, clf__min_samples_leaf=1, clf__min_samples_split=2, clf__n_estimators=50 \n",
      "[CV]  clf__max_depth=None, clf__min_samples_leaf=1, clf__min_samples_split=2, clf__n_estimators=50, score=0.546519068338879, total=  50.3s\n",
      "[CV] clf__max_depth=None, clf__min_samples_leaf=1, clf__min_samples_split=2, clf__n_estimators=50 \n",
      "[CV]  clf__max_depth=None, clf__min_samples_leaf=1, clf__min_samples_split=2, clf__n_estimators=50, score=0.5514468393645772, total=  50.5s\n",
      "[CV] clf__max_depth=None, clf__min_samples_leaf=1, clf__min_samples_split=5, clf__n_estimators=20 \n",
      "[CV]  clf__max_depth=None, clf__min_samples_leaf=1, clf__min_samples_split=5, clf__n_estimators=20, score=0.5578045932269364, total=  22.3s\n",
      "[CV] clf__max_depth=None, clf__min_samples_leaf=1, clf__min_samples_split=5, clf__n_estimators=20 \n",
      "[CV]  clf__max_depth=None, clf__min_samples_leaf=1, clf__min_samples_split=5, clf__n_estimators=20, score=0.5606326889279437, total=  22.6s\n",
      "[CV] clf__max_depth=None, clf__min_samples_leaf=1, clf__min_samples_split=5, clf__n_estimators=20 \n",
      "[CV]  clf__max_depth=None, clf__min_samples_leaf=1, clf__min_samples_split=5, clf__n_estimators=20, score=0.5677552734438092, total=  22.2s\n",
      "[CV] clf__max_depth=None, clf__min_samples_leaf=1, clf__min_samples_split=5, clf__n_estimators=50 \n",
      "[CV]  clf__max_depth=None, clf__min_samples_leaf=1, clf__min_samples_split=5, clf__n_estimators=50, score=0.5575840858526371, total=  40.6s\n",
      "[CV] clf__max_depth=None, clf__min_samples_leaf=1, clf__min_samples_split=5, clf__n_estimators=50 \n",
      "[CV]  clf__max_depth=None, clf__min_samples_leaf=1, clf__min_samples_split=5, clf__n_estimators=50, score=0.5575358510874039, total=  40.6s\n",
      "[CV] clf__max_depth=None, clf__min_samples_leaf=1, clf__min_samples_split=5, clf__n_estimators=50 \n",
      "[CV]  clf__max_depth=None, clf__min_samples_leaf=1, clf__min_samples_split=5, clf__n_estimators=50, score=0.5669030117738894, total=  40.4s\n",
      "[CV] clf__max_depth=None, clf__min_samples_leaf=1, clf__min_samples_split=8, clf__n_estimators=20 \n",
      "[CV]  clf__max_depth=None, clf__min_samples_leaf=1, clf__min_samples_split=8, clf__n_estimators=20, score=0.5544509273444376, total=  21.4s\n",
      "[CV] clf__max_depth=None, clf__min_samples_leaf=1, clf__min_samples_split=8, clf__n_estimators=20 \n",
      "[CV]  clf__max_depth=None, clf__min_samples_leaf=1, clf__min_samples_split=8, clf__n_estimators=20, score=0.5519402418180668, total=  21.2s\n",
      "[CV] clf__max_depth=None, clf__min_samples_leaf=1, clf__min_samples_split=8, clf__n_estimators=20 \n",
      "[CV]  clf__max_depth=None, clf__min_samples_leaf=1, clf__min_samples_split=8, clf__n_estimators=20, score=0.5544024541479015, total=  21.2s\n",
      "[CV] clf__max_depth=None, clf__min_samples_leaf=1, clf__min_samples_split=8, clf__n_estimators=50 \n",
      "[CV]  clf__max_depth=None, clf__min_samples_leaf=1, clf__min_samples_split=8, clf__n_estimators=50, score=0.5534834854553812, total=  37.4s\n",
      "[CV] clf__max_depth=None, clf__min_samples_leaf=1, clf__min_samples_split=8, clf__n_estimators=50 \n",
      "[CV]  clf__max_depth=None, clf__min_samples_leaf=1, clf__min_samples_split=8, clf__n_estimators=50, score=0.5530170633281434, total=  37.8s\n",
      "[CV] clf__max_depth=None, clf__min_samples_leaf=1, clf__min_samples_split=8, clf__n_estimators=50 \n",
      "[CV]  clf__max_depth=None, clf__min_samples_leaf=1, clf__min_samples_split=8, clf__n_estimators=50, score=0.5590898689071234, total=  37.6s\n",
      "[CV] clf__max_depth=None, clf__min_samples_leaf=2, clf__min_samples_split=2, clf__n_estimators=20 \n",
      "[CV]  clf__max_depth=None, clf__min_samples_leaf=2, clf__min_samples_split=2, clf__n_estimators=20, score=0.5196120618317831, total=  15.5s\n",
      "[CV] clf__max_depth=None, clf__min_samples_leaf=2, clf__min_samples_split=2, clf__n_estimators=20 \n",
      "[CV]  clf__max_depth=None, clf__min_samples_leaf=2, clf__min_samples_split=2, clf__n_estimators=20, score=0.5285241309053865, total=  15.7s\n",
      "[CV] clf__max_depth=None, clf__min_samples_leaf=2, clf__min_samples_split=2, clf__n_estimators=20 \n",
      "[CV]  clf__max_depth=None, clf__min_samples_leaf=2, clf__min_samples_split=2, clf__n_estimators=20, score=0.5243826041082791, total=  15.5s\n",
      "[CV] clf__max_depth=None, clf__min_samples_leaf=2, clf__min_samples_split=2, clf__n_estimators=50 \n",
      "[CV]  clf__max_depth=None, clf__min_samples_leaf=2, clf__min_samples_split=2, clf__n_estimators=50, score=0.5219119546854813, total=  23.5s\n",
      "[CV] clf__max_depth=None, clf__min_samples_leaf=2, clf__min_samples_split=2, clf__n_estimators=50 \n",
      "[CV]  clf__max_depth=None, clf__min_samples_leaf=2, clf__min_samples_split=2, clf__n_estimators=50, score=0.5182749951653451, total=  23.3s\n",
      "[CV] clf__max_depth=None, clf__min_samples_leaf=2, clf__min_samples_split=2, clf__n_estimators=50 \n",
      "[CV]  clf__max_depth=None, clf__min_samples_leaf=2, clf__min_samples_split=2, clf__n_estimators=50, score=0.5207497097362747, total=  23.3s\n",
      "[CV] clf__max_depth=None, clf__min_samples_leaf=2, clf__min_samples_split=5, clf__n_estimators=20 \n",
      "[CV]  clf__max_depth=None, clf__min_samples_leaf=2, clf__min_samples_split=5, clf__n_estimators=20, score=0.5221759534668516, total=  15.3s\n",
      "[CV] clf__max_depth=None, clf__min_samples_leaf=2, clf__min_samples_split=5, clf__n_estimators=20 \n",
      "[CV]  clf__max_depth=None, clf__min_samples_leaf=2, clf__min_samples_split=5, clf__n_estimators=20, score=0.5218672903783922, total=  15.3s\n",
      "[CV] clf__max_depth=None, clf__min_samples_leaf=2, clf__min_samples_split=5, clf__n_estimators=20 \n",
      "[CV]  clf__max_depth=None, clf__min_samples_leaf=2, clf__min_samples_split=5, clf__n_estimators=20, score=0.5258274659472264, total=  15.6s\n",
      "[CV] clf__max_depth=None, clf__min_samples_leaf=2, clf__min_samples_split=5, clf__n_estimators=50 \n",
      "[CV]  clf__max_depth=None, clf__min_samples_leaf=2, clf__min_samples_split=5, clf__n_estimators=50, score=0.5233465608465608, total=  23.4s\n",
      "[CV] clf__max_depth=None, clf__min_samples_leaf=2, clf__min_samples_split=5, clf__n_estimators=50 \n",
      "[CV]  clf__max_depth=None, clf__min_samples_leaf=2, clf__min_samples_split=5, clf__n_estimators=50, score=0.5159519504004133, total=  23.7s\n",
      "[CV] clf__max_depth=None, clf__min_samples_leaf=2, clf__min_samples_split=5, clf__n_estimators=50 \n",
      "[CV]  clf__max_depth=None, clf__min_samples_leaf=2, clf__min_samples_split=5, clf__n_estimators=50, score=0.5302215033175981, total=  23.4s\n",
      "[CV] clf__max_depth=None, clf__min_samples_leaf=2, clf__min_samples_split=8, clf__n_estimators=20 \n",
      "[CV]  clf__max_depth=None, clf__min_samples_leaf=2, clf__min_samples_split=8, clf__n_estimators=20, score=0.528003153434287, total=  15.3s\n",
      "[CV] clf__max_depth=None, clf__min_samples_leaf=2, clf__min_samples_split=8, clf__n_estimators=20 \n",
      "[CV]  clf__max_depth=None, clf__min_samples_leaf=2, clf__min_samples_split=8, clf__n_estimators=20, score=0.5117090345295391, total=  15.6s\n",
      "[CV] clf__max_depth=None, clf__min_samples_leaf=2, clf__min_samples_split=8, clf__n_estimators=20 \n",
      "[CV]  clf__max_depth=None, clf__min_samples_leaf=2, clf__min_samples_split=8, clf__n_estimators=20, score=0.5159254707894649, total=  15.0s\n",
      "[CV] clf__max_depth=None, clf__min_samples_leaf=2, clf__min_samples_split=8, clf__n_estimators=50 \n",
      "[CV]  clf__max_depth=None, clf__min_samples_leaf=2, clf__min_samples_split=8, clf__n_estimators=50, score=0.5242448330683624, total=  22.2s\n",
      "[CV] clf__max_depth=None, clf__min_samples_leaf=2, clf__min_samples_split=8, clf__n_estimators=50 \n",
      "[CV]  clf__max_depth=None, clf__min_samples_leaf=2, clf__min_samples_split=8, clf__n_estimators=50, score=0.5206157405919594, total=  23.0s\n",
      "[CV] clf__max_depth=None, clf__min_samples_leaf=2, clf__min_samples_split=8, clf__n_estimators=50 \n",
      "[CV]  clf__max_depth=None, clf__min_samples_leaf=2, clf__min_samples_split=8, clf__n_estimators=50, score=0.5287561007782615, total=  23.1s\n",
      "[CV] clf__max_depth=None, clf__min_samples_leaf=4, clf__min_samples_split=2, clf__n_estimators=20 \n",
      "[CV]  clf__max_depth=None, clf__min_samples_leaf=4, clf__min_samples_split=2, clf__n_estimators=20, score=0.49058775731310944, total=  14.0s\n",
      "[CV] clf__max_depth=None, clf__min_samples_leaf=4, clf__min_samples_split=2, clf__n_estimators=20 \n",
      "[CV]  clf__max_depth=None, clf__min_samples_leaf=4, clf__min_samples_split=2, clf__n_estimators=20, score=0.4817190082644628, total=  14.1s\n",
      "[CV] clf__max_depth=None, clf__min_samples_leaf=4, clf__min_samples_split=2, clf__n_estimators=20 \n",
      "[CV]  clf__max_depth=None, clf__min_samples_leaf=4, clf__min_samples_split=2, clf__n_estimators=20, score=0.4906972817828803, total=  14.0s\n",
      "[CV] clf__max_depth=None, clf__min_samples_leaf=4, clf__min_samples_split=2, clf__n_estimators=50 \n",
      "[CV]  clf__max_depth=None, clf__min_samples_leaf=4, clf__min_samples_split=2, clf__n_estimators=50, score=0.4951436665317686, total=  19.3s\n",
      "[CV] clf__max_depth=None, clf__min_samples_leaf=4, clf__min_samples_split=2, clf__n_estimators=50 \n",
      "[CV]  clf__max_depth=None, clf__min_samples_leaf=4, clf__min_samples_split=2, clf__n_estimators=50, score=0.48149861239592967, total=  19.3s\n",
      "[CV] clf__max_depth=None, clf__min_samples_leaf=4, clf__min_samples_split=2, clf__n_estimators=50 \n",
      "[CV]  clf__max_depth=None, clf__min_samples_leaf=4, clf__min_samples_split=2, clf__n_estimators=50, score=0.49925985735432643, total=  19.2s\n",
      "[CV] clf__max_depth=None, clf__min_samples_leaf=4, clf__min_samples_split=5, clf__n_estimators=20 \n",
      "[CV]  clf__max_depth=None, clf__min_samples_leaf=4, clf__min_samples_split=5, clf__n_estimators=20, score=0.4979817007534984, total=  13.6s\n",
      "[CV] clf__max_depth=None, clf__min_samples_leaf=4, clf__min_samples_split=5, clf__n_estimators=20 \n",
      "[CV]  clf__max_depth=None, clf__min_samples_leaf=4, clf__min_samples_split=5, clf__n_estimators=20, score=0.4983075120427027, total=  13.7s\n",
      "[CV] clf__max_depth=None, clf__min_samples_leaf=4, clf__min_samples_split=5, clf__n_estimators=20 \n",
      "[CV]  clf__max_depth=None, clf__min_samples_leaf=4, clf__min_samples_split=5, clf__n_estimators=20, score=0.5017428609733208, total=  13.8s\n",
      "[CV] clf__max_depth=None, clf__min_samples_leaf=4, clf__min_samples_split=5, clf__n_estimators=50 \n",
      "[CV]  clf__max_depth=None, clf__min_samples_leaf=4, clf__min_samples_split=5, clf__n_estimators=50, score=0.486836748541186, total=  19.2s\n",
      "[CV] clf__max_depth=None, clf__min_samples_leaf=4, clf__min_samples_split=5, clf__n_estimators=50 \n",
      "[CV]  clf__max_depth=None, clf__min_samples_leaf=4, clf__min_samples_split=5, clf__n_estimators=50, score=0.48653814466963263, total=  19.3s\n",
      "[CV] clf__max_depth=None, clf__min_samples_leaf=4, clf__min_samples_split=5, clf__n_estimators=50 \n",
      "[CV]  clf__max_depth=None, clf__min_samples_leaf=4, clf__min_samples_split=5, clf__n_estimators=50, score=0.4895029120953543, total=  19.1s\n",
      "[CV] clf__max_depth=None, clf__min_samples_leaf=4, clf__min_samples_split=8, clf__n_estimators=20 \n",
      "[CV]  clf__max_depth=None, clf__min_samples_leaf=4, clf__min_samples_split=8, clf__n_estimators=20, score=0.49026028830896995, total=  13.9s\n",
      "[CV] clf__max_depth=None, clf__min_samples_leaf=4, clf__min_samples_split=8, clf__n_estimators=20 \n",
      "[CV]  clf__max_depth=None, clf__min_samples_leaf=4, clf__min_samples_split=8, clf__n_estimators=20, score=0.490796338222266, total=  13.9s\n",
      "[CV] clf__max_depth=None, clf__min_samples_leaf=4, clf__min_samples_split=8, clf__n_estimators=20 \n",
      "[CV]  clf__max_depth=None, clf__min_samples_leaf=4, clf__min_samples_split=8, clf__n_estimators=20, score=0.4948190014802852, total=  13.9s\n",
      "[CV] clf__max_depth=None, clf__min_samples_leaf=4, clf__min_samples_split=8, clf__n_estimators=50 \n",
      "[CV]  clf__max_depth=None, clf__min_samples_leaf=4, clf__min_samples_split=8, clf__n_estimators=50, score=0.4851286583500459, total=  19.1s\n",
      "[CV] clf__max_depth=None, clf__min_samples_leaf=4, clf__min_samples_split=8, clf__n_estimators=50 \n",
      "[CV]  clf__max_depth=None, clf__min_samples_leaf=4, clf__min_samples_split=8, clf__n_estimators=50, score=0.47885737009544005, total=  19.2s\n",
      "[CV] clf__max_depth=None, clf__min_samples_leaf=4, clf__min_samples_split=8, clf__n_estimators=50 \n",
      "[CV]  clf__max_depth=None, clf__min_samples_leaf=4, clf__min_samples_split=8, clf__n_estimators=50, score=0.4896853087632533, total=  19.2s\n"
     ]
    },
    {
     "name": "stderr",
     "output_type": "stream",
     "text": [
      "[Parallel(n_jobs=-1)]: Done 162 out of 162 | elapsed: 67.4min finished\n"
     ]
    }
   ],
   "source": [
    "improved_model = cv.fit(X_train['message'], y_train)"
   ]
  },
  {
   "cell_type": "markdown",
   "metadata": {},
   "source": [
    "### 7. Test your model\n",
    "Show the accuracy, precision, and recall of the tuned model.  \n",
    "\n",
    "Since this project focuses on code quality, process, and  pipelines, there is no minimum performance metric needed to pass. However, make sure to fine tune your models for accuracy, precision and recall to make your project stand out - especially for your portfolio!"
   ]
  },
  {
   "cell_type": "code",
   "execution_count": 17,
   "metadata": {},
   "outputs": [
    {
     "name": "stdout",
     "output_type": "stream",
     "text": [
      "                        precision    recall  f1-score   support\n",
      "\n",
      "               related       0.82      0.95      0.88      4941\n",
      "               request       0.86      0.39      0.54      1152\n",
      "                 offer       0.00      0.00      0.00        29\n",
      "           aid_related       0.80      0.50      0.61      2744\n",
      "          medical_help       0.78      0.01      0.02       559\n",
      "      medical_products       0.78      0.02      0.04       334\n",
      "     search_and_rescue       1.00      0.01      0.02       191\n",
      "              security       0.00      0.00      0.00       111\n",
      "              military       0.83      0.02      0.05       208\n",
      "                 water       0.94      0.15      0.26       440\n",
      "                  food       0.87      0.28      0.42       714\n",
      "               shelter       0.93      0.13      0.23       605\n",
      "              clothing       0.50      0.02      0.04        94\n",
      "                 money       0.67      0.01      0.03       135\n",
      "        missing_people       0.00      0.00      0.00        71\n",
      "              refugees       0.00      0.00      0.00       251\n",
      "                 death       1.00      0.04      0.07       314\n",
      "             other_aid       0.64      0.02      0.04       856\n",
      "infrastructure_related       1.00      0.00      0.00       466\n",
      "             transport       0.75      0.01      0.02       320\n",
      "             buildings       0.50      0.00      0.01       362\n",
      "           electricity       0.00      0.00      0.00       117\n",
      "                 tools       0.00      0.00      0.00        40\n",
      "             hospitals       0.00      0.00      0.00        75\n",
      "                 shops       0.00      0.00      0.00        42\n",
      "           aid_centers       0.00      0.00      0.00        86\n",
      "  other_infrastructure       0.00      0.00      0.00       306\n",
      "       weather_related       0.89      0.45      0.59      1805\n",
      "                floods       0.88      0.14      0.23       524\n",
      "                 storm       0.74      0.13      0.22       607\n",
      "                  fire       0.00      0.00      0.00        66\n",
      "            earthquake       0.87      0.44      0.58       588\n",
      "                  cold       0.00      0.00      0.00       133\n",
      "         other_weather       0.67      0.01      0.01       355\n",
      "         direct_report       0.84      0.35      0.49      1267\n",
      "\n",
      "           avg / total       0.77      0.41      0.46     20908\n",
      "\n",
      "\n",
      "\n",
      "                         precision    recall  f1-score   support\n",
      "\n",
      "               related       0.99      1.00      0.99     14933\n",
      "               request       1.00      0.92      0.96      3312\n",
      "                 offer       1.00      0.43      0.60        88\n",
      "           aid_related       1.00      0.98      0.99      8096\n",
      "          medical_help       1.00      0.73      0.85      1521\n",
      "      medical_products       1.00      0.70      0.82       976\n",
      "     search_and_rescue       1.00      0.65      0.79       533\n",
      "              security       1.00      0.53      0.69       360\n",
      "              military       1.00      0.77      0.87       651\n",
      "                 water       1.00      0.86      0.92      1229\n",
      "                  food       1.00      0.92      0.96      2203\n",
      "               shelter       1.00      0.86      0.92      1703\n",
      "              clothing       1.00      0.68      0.81       310\n",
      "                 money       1.00      0.63      0.78       468\n",
      "        missing_people       1.00      0.53      0.70       227\n",
      "              refugees       1.00      0.63      0.77       623\n",
      "                 death       1.00      0.74      0.85       878\n",
      "             other_aid       1.00      0.78      0.88      2585\n",
      "infrastructure_related       1.00      0.67      0.80      1239\n",
      "             transport       1.00      0.66      0.79       879\n",
      "             buildings       1.00      0.75      0.86       969\n",
      "           electricity       1.00      0.65      0.79       415\n",
      "                 tools       1.00      0.50      0.66       119\n",
      "             hospitals       1.00      0.55      0.71       208\n",
      "                 shops       1.00      0.51      0.68        78\n",
      "           aid_centers       1.00      0.56      0.71       223\n",
      "  other_infrastructure       1.00      0.61      0.76       845\n",
      "       weather_related       1.00      0.96      0.98      5481\n",
      "                floods       1.00      0.85      0.92      1625\n",
      "                 storm       1.00      0.90      0.94      1833\n",
      "                  fire       1.00      0.62      0.76       216\n",
      "            earthquake       1.00      0.92      0.96      1864\n",
      "                  cold       1.00      0.67      0.80       395\n",
      "         other_weather       1.00      0.66      0.79      1021\n",
      "         direct_report       1.00      0.91      0.95      3796\n",
      "\n",
      "           avg / total       1.00      0.89      0.93     61902\n",
      "\n"
     ]
    }
   ],
   "source": [
    "y_pred_test_1 = improved_model.predict(X_test['message'])\n",
    "y_pred_train_1 = improved_model.predict(X_train['message'])\n",
    "\n",
    "print(classification_report(y_test.values, y_pred_test_1, target_names=y.columns.values))\n",
    "print()\n",
    "print('\\n',classification_report(y_train.values, y_pred_train_1, target_names=y.columns.values))"
   ]
  },
  {
   "cell_type": "markdown",
   "metadata": {},
   "source": [
    "### 8. Try improving your model further. Here are a few ideas:\n",
    "* try other machine learning algorithms\n",
    "* add other features besides the TF-IDF"
   ]
  },
  {
   "cell_type": "code",
   "execution_count": 18,
   "metadata": {},
   "outputs": [],
   "source": [
    "# Using Decision Tree Classifier now \n",
    "pipeline_new = Pipeline([\n",
    "                    ('vect', CountVectorizer(tokenizer=tokenize)),\n",
    "                    ('tfidf', TfidfTransformer()),\n",
    "                    ('clf', MultiOutputClassifier(\n",
    "                        AdaBoostClassifier(base_estimator=DecisionTreeClassifier(max_depth=1, class_weight='balanced'))\n",
    "                    ))\n",
    "                        ])\n",
    "\n",
    "# Improved parameters \n",
    "parameters_new = {\n",
    "                'clf__estimator__n_estimators': [100, 200],\n",
    "                'clf__estimator__learning_rate': [0.1, 0.3]\n",
    "                }\n"
   ]
  },
  {
   "cell_type": "code",
   "execution_count": 20,
   "metadata": {},
   "outputs": [],
   "source": [
    "# new model with improved parameters\n",
    "cv2 = GridSearchCV(pipeline_new, param_grid=parameters_new, cv=3, scoring='f1_micro', verbose=10)"
   ]
  },
  {
   "cell_type": "code",
   "execution_count": null,
   "metadata": {},
   "outputs": [
    {
     "name": "stdout",
     "output_type": "stream",
     "text": [
      "Fitting 3 folds for each of 4 candidates, totalling 12 fits\n",
      "[CV] clf__estimator__learning_rate=0.1, clf__estimator__n_estimators=100 \n",
      "[CV]  clf__estimator__learning_rate=0.1, clf__estimator__n_estimators=100, score=0.47367464845027435, total= 4.0min\n",
      "[CV] clf__estimator__learning_rate=0.1, clf__estimator__n_estimators=100 \n"
     ]
    },
    {
     "name": "stderr",
     "output_type": "stream",
     "text": [
      "[Parallel(n_jobs=1)]: Done   1 out of   1 | elapsed:  4.3min remaining:    0.0s\n"
     ]
    },
    {
     "name": "stdout",
     "output_type": "stream",
     "text": [
      "[CV]  clf__estimator__learning_rate=0.1, clf__estimator__n_estimators=100, score=0.48613365197695785, total= 3.9min\n",
      "[CV] clf__estimator__learning_rate=0.1, clf__estimator__n_estimators=100 \n"
     ]
    },
    {
     "name": "stderr",
     "output_type": "stream",
     "text": [
      "[Parallel(n_jobs=1)]: Done   2 out of   2 | elapsed:  8.5min remaining:    0.0s\n"
     ]
    },
    {
     "name": "stdout",
     "output_type": "stream",
     "text": [
      "[CV]  clf__estimator__learning_rate=0.1, clf__estimator__n_estimators=100, score=0.4740953578162881, total= 3.9min\n",
      "[CV] clf__estimator__learning_rate=0.1, clf__estimator__n_estimators=200 \n"
     ]
    },
    {
     "name": "stderr",
     "output_type": "stream",
     "text": [
      "[Parallel(n_jobs=1)]: Done   3 out of   3 | elapsed: 12.7min remaining:    0.0s\n"
     ]
    },
    {
     "name": "stdout",
     "output_type": "stream",
     "text": [
      "[CV]  clf__estimator__learning_rate=0.1, clf__estimator__n_estimators=200, score=0.5009170572651315, total= 7.6min\n",
      "[CV] clf__estimator__learning_rate=0.1, clf__estimator__n_estimators=200 \n"
     ]
    },
    {
     "name": "stderr",
     "output_type": "stream",
     "text": [
      "[Parallel(n_jobs=1)]: Done   4 out of   4 | elapsed: 20.8min remaining:    0.0s\n"
     ]
    },
    {
     "name": "stdout",
     "output_type": "stream",
     "text": [
      "[CV]  clf__estimator__learning_rate=0.1, clf__estimator__n_estimators=200, score=0.5166241341596792, total= 7.6min\n",
      "[CV] clf__estimator__learning_rate=0.1, clf__estimator__n_estimators=200 \n"
     ]
    },
    {
     "name": "stderr",
     "output_type": "stream",
     "text": [
      "[Parallel(n_jobs=1)]: Done   5 out of   5 | elapsed: 28.8min remaining:    0.0s\n"
     ]
    },
    {
     "name": "stdout",
     "output_type": "stream",
     "text": [
      "[CV]  clf__estimator__learning_rate=0.1, clf__estimator__n_estimators=200, score=0.503558489802674, total= 7.6min\n",
      "[CV] clf__estimator__learning_rate=0.3, clf__estimator__n_estimators=100 \n"
     ]
    },
    {
     "name": "stderr",
     "output_type": "stream",
     "text": [
      "[Parallel(n_jobs=1)]: Done   6 out of   6 | elapsed: 37.0min remaining:    0.0s\n"
     ]
    },
    {
     "name": "stdout",
     "output_type": "stream",
     "text": [
      "[CV]  clf__estimator__learning_rate=0.3, clf__estimator__n_estimators=100, score=0.5101755418982078, total= 3.9min\n",
      "[CV] clf__estimator__learning_rate=0.3, clf__estimator__n_estimators=100 \n"
     ]
    },
    {
     "name": "stderr",
     "output_type": "stream",
     "text": [
      "[Parallel(n_jobs=1)]: Done   7 out of   7 | elapsed: 41.2min remaining:    0.0s\n"
     ]
    },
    {
     "name": "stdout",
     "output_type": "stream",
     "text": [
      "[CV]  clf__estimator__learning_rate=0.3, clf__estimator__n_estimators=100, score=0.529757798031882, total= 3.9min\n",
      "[CV] clf__estimator__learning_rate=0.3, clf__estimator__n_estimators=100 \n"
     ]
    },
    {
     "name": "stderr",
     "output_type": "stream",
     "text": [
      "[Parallel(n_jobs=1)]: Done   8 out of   8 | elapsed: 45.4min remaining:    0.0s\n"
     ]
    }
   ],
   "source": [
    "#further improved model\n",
    "improved_model_2 = cv2.fit(X_train['message'], y_train)"
   ]
  },
  {
   "cell_type": "code",
   "execution_count": null,
   "metadata": {},
   "outputs": [],
   "source": [
    "improved_model_2.best_params_"
   ]
  },
  {
   "cell_type": "code",
   "execution_count": null,
   "metadata": {},
   "outputs": [],
   "source": [
    "# prediction with test set and training set\n",
    "y_pred_test_2 = improved_model_2.predict(X_test['message'])\n",
    "y_pred_train_2 = improved_model_2.predict(X_train['message'])\n",
    "\n",
    "print(classification_report(y_test.values, y_pred_test_2, target_names=y.columns.values))\n",
    "print()\n",
    "print('\\n',classification_report(y_train.values, y_pred_train_2, target_names=y.columns.values))"
   ]
  },
  {
   "cell_type": "markdown",
   "metadata": {},
   "source": [
    "### 9. Export your model as a pickle file"
   ]
  },
  {
   "cell_type": "code",
   "execution_count": null,
   "metadata": {},
   "outputs": [],
   "source": [
    "# Pickle best model\n",
    "pickle.dump(improved_model_2, open('final_disaster_model.sav', 'wb'))"
   ]
  },
  {
   "cell_type": "markdown",
   "metadata": {},
   "source": [
    "### 10. Use this notebook to complete `train.py`\n",
    "Use the template file attached in the Resources folder to write a script that runs the steps above to create a database and export a model based on a new dataset specified by the user."
   ]
  },
  {
   "cell_type": "code",
   "execution_count": null,
   "metadata": {},
   "outputs": [],
   "source": []
  }
 ],
 "metadata": {
  "kernelspec": {
   "display_name": "Python 3",
   "language": "python",
   "name": "python3"
  },
  "language_info": {
   "codemirror_mode": {
    "name": "ipython",
    "version": 3
   },
   "file_extension": ".py",
   "mimetype": "text/x-python",
   "name": "python",
   "nbconvert_exporter": "python",
   "pygments_lexer": "ipython3",
   "version": "3.6.3"
  }
 },
 "nbformat": 4,
 "nbformat_minor": 2
}
